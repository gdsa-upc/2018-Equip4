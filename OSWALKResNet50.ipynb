{
 "cells": [
  {
   "cell_type": "code",
   "execution_count": 1,
   "metadata": {},
   "outputs": [
    {
     "name": "stderr",
     "output_type": "stream",
     "text": [
      "Using TensorFlow backend.\n",
      "/usr/local/lib/python3.5/dist-packages/keras_applications/resnet50.py:265: UserWarning: The output shape of `ResNet50(include_top=False)` has been changed since Keras 2.2.0.\n",
      "  warnings.warn('The output shape of `ResNet50(include_top=False)` '\n",
      "/usr/local/lib/python3.5/dist-packages/ipykernel_launcher.py:11: UserWarning: Update your `Model` call to the Keras 2 API: `Model(outputs=Tensor(\"re..., inputs=Tensor(\"in...)`\n",
      "  # This is added back by InteractiveShellApp.init_path()\n"
     ]
    }
   ],
   "source": [
    "import os\n",
    "from keras.models import Model\n",
    "from keras.applications.resnet50 import ResNet50\n",
    "from keras.preprocessing import image\n",
    "from keras.applications.resnet50 import preprocess_input\n",
    "import numpy as np\n",
    "\n",
    "\n",
    "base_model = ResNet50(weights='imagenet',include_top=False)\n",
    "\n",
    "model = Model(input=base_model.input, output=base_model.get_layer('res5c_branch2c').output)"
   ]
  },
  {
   "cell_type": "code",
   "execution_count": 4,
   "metadata": {},
   "outputs": [],
   "source": [
    "test = []\n",
    "\n",
    "path='Fotos'\n",
    "for(path,dirs,files) in os.walk(path):\n",
    "    if path == 'Fotos/test/images': \n",
    "        for i in range(0,len(files)):\n",
    "            chorro = 'Fotos/test/images/' + str(files[i])\n",
    "            img_path = chorro\n",
    "            img = image.load_img(img_path, target_size=(224, 224))\n",
    "            x = image.img_to_array(img)\n",
    "            x = np.expand_dims(x, axis=0)\n",
    "            x = preprocess_input(x)\n",
    "            capa = model.predict(x)\n",
    "            a = np.ndarray.flatten(capa)\n",
    "            test.append(a)"
   ]
  },
  {
   "cell_type": "code",
   "execution_count": 6,
   "metadata": {},
   "outputs": [],
   "source": [
    "test = np.asarray(test)"
   ]
  },
  {
   "cell_type": "code",
   "execution_count": 8,
   "metadata": {},
   "outputs": [],
   "source": [
    "train = []\n",
    "\n",
    "path='Fotos'\n",
    "for(path,dirs,files) in os.walk(path):\n",
    "    if path == 'Fotos/train/images':\n",
    "        for i in range(0,len(files)):\n",
    "            chorro = 'Fotos/train/images/' + str(files[i])\n",
    "            img_path = chorro\n",
    "            img = image.load_img(img_path, target_size=(224, 224))\n",
    "            x = image.img_to_array(img)\n",
    "            x = np.expand_dims(x, axis=0)\n",
    "            x = preprocess_input(x)\n",
    "            capa = model.predict(x)\n",
    "            a = np.ndarray.flatten(capa)\n",
    "            train.append(a)"
   ]
  },
  {
   "cell_type": "code",
   "execution_count": 9,
   "metadata": {},
   "outputs": [],
   "source": [
    "train = np.asarray(train)"
   ]
  },
  {
   "cell_type": "code",
   "execution_count": 10,
   "metadata": {},
   "outputs": [],
   "source": [
    "val = []\n",
    "\n",
    "path='Fotos'\n",
    "for(path,dirs,files) in os.walk(path):\n",
    "    if path == 'Fotos/val/images':\n",
    "        for i in range(0,len(files)):\n",
    "            chorro = 'Fotos/val/images/' + str(files[i])\n",
    "            img_path = chorro\n",
    "            img = image.load_img(img_path, target_size=(224, 224))\n",
    "            x = image.img_to_array(img)\n",
    "            x = np.expand_dims(x, axis=0)\n",
    "            x = preprocess_input(x)\n",
    "            capa = model.predict(x)\n",
    "            a = np.ndarray.flatten(capa)\n",
    "            val.append(a)"
   ]
  },
  {
   "cell_type": "code",
   "execution_count": 11,
   "metadata": {},
   "outputs": [],
   "source": [
    "val = np.asarray(val)"
   ]
  },
  {
   "cell_type": "code",
   "execution_count": 12,
   "metadata": {},
   "outputs": [
    {
     "name": "stdout",
     "output_type": "stream",
     "text": [
      "[-0.15685281 -0.138362   -0.14955467 ... -0.084459   -0.15975478\n",
      " -0.13724226] 477\n"
     ]
    }
   ],
   "source": [
    "print(train[500], len(val))"
   ]
  },
  {
   "cell_type": "code",
   "execution_count": 13,
   "metadata": {},
   "outputs": [],
   "source": [
    "import pickle\n",
    "\n",
    "pickle_out_test = open(\"test.pickle\", \"wb\")\n",
    "pickle.dump(test, pickle_out_test)\n",
    "pickle_out_test.close()"
   ]
  },
  {
   "cell_type": "code",
   "execution_count": 14,
   "metadata": {},
   "outputs": [],
   "source": [
    "pickle_out_train = open(\"train.pickle\", \"wb\")\n",
    "pickle.dump(train, pickle_out_train)\n",
    "pickle_out_train.close()"
   ]
  },
  {
   "cell_type": "code",
   "execution_count": 15,
   "metadata": {},
   "outputs": [],
   "source": [
    "pickle_out_val = open(\"val.pickle\", \"wb\")\n",
    "pickle.dump(val, pickle_out_val)\n",
    "pickle_out_val.close()"
   ]
  },
  {
   "cell_type": "code",
   "execution_count": null,
   "metadata": {},
   "outputs": [],
   "source": []
  }
 ],
 "metadata": {
  "kernelspec": {
   "display_name": "Python 3",
   "language": "python",
   "name": "python3"
  },
  "language_info": {
   "codemirror_mode": {
    "name": "ipython",
    "version": 3
   },
   "file_extension": ".py",
   "mimetype": "text/x-python",
   "name": "python",
   "nbconvert_exporter": "python",
   "pygments_lexer": "ipython3",
   "version": "3.5.3"
  }
 },
 "nbformat": 4,
 "nbformat_minor": 2
}
