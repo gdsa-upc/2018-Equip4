{
 "cells": [
  {
   "cell_type": "code",
   "execution_count": 8,
   "metadata": {},
   "outputs": [],
   "source": [
    "import os\n",
    "import numpy as np\n",
    "from keras.applications.vgg19 import VGG19\n",
    "from keras.preprocessing import image\n",
    "from keras.applications.vgg19 import preprocess_input\n",
    "from keras.models import Model\n",
    "\n",
    "base_model = VGG19(weights='imagenet')\n",
    "model = Model(inputs=base_model.input, outputs=base_model.get_layer('fc2').output)"
   ]
  },
  {
   "cell_type": "code",
   "execution_count": 9,
   "metadata": {},
   "outputs": [],
   "source": [
    "test = np.empty((0,4096))\n",
    "\n",
    "path='Fotos'\n",
    "for(path,dirs,files) in os.walk(path):\n",
    "    if path == 'Fotos/test/images': \n",
    "        for i in range(0,len(files)):\n",
    "            chorro = 'Fotos/test/images/' + str(files[i])\n",
    "            img_path = chorro\n",
    "            img = image.load_img(img_path, target_size=(224, 224))\n",
    "            x = image.img_to_array(img)\n",
    "            x = np.expand_dims(x, axis=0)\n",
    "            x = preprocess_input(x)\n",
    "            capa = model.predict(x)\n",
    "            test = np.append(test, capa, axis=0)"
   ]
  },
  {
   "cell_type": "code",
   "execution_count": 10,
   "metadata": {},
   "outputs": [],
   "source": [
    "train = np.empty((0,4096))\n",
    "\n",
    "path='Fotos'\n",
    "for(path,dirs,files) in os.walk(path):\n",
    "    if path == 'Fotos/train/images':\n",
    "        for i in range(0,len(files)):\n",
    "            chorro = 'Fotos/train/images/' + str(files[i])\n",
    "            img_path = chorro\n",
    "            img = image.load_img(img_path, target_size=(224, 224))\n",
    "            x = image.img_to_array(img)\n",
    "            x = np.expand_dims(x, axis=0)\n",
    "            x = preprocess_input(x)\n",
    "            capa = model.predict(x)\n",
    "            train = np.append(train, capa, axis=0)"
   ]
  },
  {
   "cell_type": "code",
   "execution_count": 11,
   "metadata": {},
   "outputs": [],
   "source": [
    "val = np.empty((0,4096))\n",
    "\n",
    "path='Fotos'\n",
    "for(path,dirs,files) in os.walk(path):\n",
    "    if path == 'Fotos/val/images':\n",
    "        for i in range(0,len(files)):\n",
    "            chorro = 'Fotos/val/images/' + str(files[i])\n",
    "            img_path = chorro\n",
    "            img = image.load_img(img_path, target_size=(224, 224))\n",
    "            x = image.img_to_array(img)\n",
    "            x = np.expand_dims(x, axis=0)\n",
    "            x = preprocess_input(x)\n",
    "            capa = model.predict(x)\n",
    "            val = np.append(train, capa, axis=0)"
   ]
  },
  {
   "cell_type": "code",
   "execution_count": 13,
   "metadata": {},
   "outputs": [
    {
     "name": "stdout",
     "output_type": "stream",
     "text": [
      "1195\n"
     ]
    }
   ],
   "source": [
    "print(len(val))"
   ]
  },
  {
   "cell_type": "code",
   "execution_count": null,
   "metadata": {},
   "outputs": [],
   "source": []
  }
 ],
 "metadata": {
  "kernelspec": {
   "display_name": "Python 3",
   "language": "python",
   "name": "python3"
  },
  "language_info": {
   "codemirror_mode": {
    "name": "ipython",
    "version": 3
   },
   "file_extension": ".py",
   "mimetype": "text/x-python",
   "name": "python",
   "nbconvert_exporter": "python",
   "pygments_lexer": "ipython3",
   "version": "3.5.3"
  }
 },
 "nbformat": 4,
 "nbformat_minor": 2
}
