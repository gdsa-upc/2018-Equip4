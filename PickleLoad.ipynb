{
 "cells": [
  {
   "cell_type": "code",
   "execution_count": 10,
   "metadata": {},
   "outputs": [],
   "source": [
    "import pickle\n",
    "\n",
    "#tutorial: https://www.youtube.com/watch?v=2Tw39kZIbhs\n",
    "\n",
    "pickle_in_test = open(\"test.pickle\",\"rb\")\n",
    "test = pickle.load(pickle_in_test)\n",
    "\n",
    "pickle_in_train = open(\"train.pickle\",\"rb\")\n",
    "train = pickle.load(pickle_in_train)\n",
    "\n",
    "pickle_in_val = open(\"val.pickle\",\"rb\")\n",
    "val = pickle.load(pickle_in_val)"
   ]
  },
  {
   "cell_type": "code",
   "execution_count": 12,
   "metadata": {},
   "outputs": [
    {
     "name": "stdout",
     "output_type": "stream",
     "text": [
      "[[0.         1.6725986  0.         ... 1.89008152 0.         0.        ]\n",
      " [1.08103299 2.41735101 0.         ... 0.31001639 0.         0.76680273]\n",
      " [0.         1.44742775 0.         ... 0.         0.         0.        ]\n",
      " ...\n",
      " [2.25276446 1.12327182 0.         ... 5.11386776 0.         0.        ]\n",
      " [0.60824847 3.28566504 0.46497473 ... 0.55712682 0.         0.        ]\n",
      " [0.         0.         0.         ... 0.         0.         0.        ]] [[0.         0.         0.         ... 0.         0.         0.        ]\n",
      " [0.         1.45074856 0.         ... 0.         0.         0.        ]\n",
      " [0.45303714 0.86625946 0.         ... 2.78649139 0.         0.        ]\n",
      " ...\n",
      " [0.         0.         0.         ... 5.08494759 0.         0.        ]\n",
      " [0.37776366 1.92218935 1.32448959 ... 0.15316445 0.         0.        ]\n",
      " [0.         1.48495698 1.53525352 ... 0.         0.         0.796422  ]]\n"
     ]
    }
   ],
   "source": [
    "print(train, val)"
   ]
  },
  {
   "cell_type": "code",
   "execution_count": null,
   "metadata": {},
   "outputs": [],
   "source": []
  }
 ],
 "metadata": {
  "kernelspec": {
   "display_name": "Python 3",
   "language": "python",
   "name": "python3"
  },
  "language_info": {
   "codemirror_mode": {
    "name": "ipython",
    "version": 3
   },
   "file_extension": ".py",
   "mimetype": "text/x-python",
   "name": "python",
   "nbconvert_exporter": "python",
   "pygments_lexer": "ipython3",
   "version": "3.5.3"
  }
 },
 "nbformat": 4,
 "nbformat_minor": 2
}
