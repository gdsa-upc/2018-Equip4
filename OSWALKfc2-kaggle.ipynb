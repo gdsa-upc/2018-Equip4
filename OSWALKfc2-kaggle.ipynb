{
 "cells": [
  {
   "cell_type": "code",
   "execution_count": 1,
   "metadata": {},
   "outputs": [
    {
     "name": "stderr",
     "output_type": "stream",
     "text": [
      "Using TensorFlow backend.\n"
     ]
    }
   ],
   "source": [
    "import os\n",
    "import numpy as np\n",
    "from keras.applications.vgg19 import VGG19\n",
    "from keras.preprocessing import image\n",
    "from keras.applications.vgg19 import preprocess_input\n",
    "from keras.models import Model\n",
    "\n",
    "base_model = VGG19(weights='imagenet')\n",
    "model = Model(inputs=base_model.input, outputs=base_model.get_layer('fc2').output)"
   ]
  },
  {
   "cell_type": "code",
   "execution_count": 3,
   "metadata": {},
   "outputs": [],
   "source": [
    "database = np.empty((0,4096))\n",
    "\n",
    "path='kaggle'\n",
    "for(path,dirs,files) in os.walk(path):\n",
    "    if path == 'kaggle/database/images':\n",
    "        for j in range(0,len(files)):\n",
    "            chorro = 'kaggle/database/images/' + str(files[j])\n",
    "            img_path = chorro\n",
    "            img = image.load_img(img_path, target_size=(224, 224))\n",
    "            x = image.img_to_array(img)\n",
    "            x = np.expand_dims(x, axis=0)\n",
    "            x = preprocess_input(x)\n",
    "            capa = model.predict(x)\n",
    "            database = np.append(database, capa, axis=0)"
   ]
  },
  {
   "cell_type": "code",
   "execution_count": 4,
   "metadata": {},
   "outputs": [],
   "source": [
    "queries = np.empty((0,4096))\n",
    "\n",
    "path='kaggle'\n",
    "for(path,dirs,files) in os.walk(path):\n",
    "    if path == 'kaggle/queries/images': \n",
    "        for i in range(0,len(files)):\n",
    "            chorro = 'kaggle/queries/images/' + str(files[i])\n",
    "            img_path = chorro\n",
    "            img = image.load_img(img_path, target_size=(224, 224))\n",
    "            x = image.img_to_array(img)\n",
    "            x = np.expand_dims(x, axis=0)\n",
    "            x = preprocess_input(x)\n",
    "            capa = model.predict(x)\n",
    "            queries = np.append(queries, capa, axis=0)"
   ]
  },
  {
   "cell_type": "code",
   "execution_count": 5,
   "metadata": {},
   "outputs": [
    {
     "name": "stdout",
     "output_type": "stream",
     "text": [
      "(array([0.        , 0.28125772, 2.15474296, ..., 0.        , 0.        ,\n",
      "       0.        ]), 1673)\n"
     ]
    }
   ],
   "source": [
    "print(database[500], len(queries))"
   ]
  },
  {
   "cell_type": "code",
   "execution_count": 6,
   "metadata": {},
   "outputs": [],
   "source": [
    "import pickle\n",
    "\n",
    "pickle_out_database = open(\"database.p\", \"wb\")\n",
    "pickle.dump(database, pickle_out_database)\n",
    "pickle_out_database.close()"
   ]
  },
  {
   "cell_type": "code",
   "execution_count": 7,
   "metadata": {},
   "outputs": [],
   "source": [
    "pickle_out_queries = open(\"queries.p\", \"wb\")\n",
    "pickle.dump(queries, pickle_out_queries)\n",
    "pickle_out_queries.close()"
   ]
  },
  {
   "cell_type": "code",
   "execution_count": null,
   "metadata": {},
   "outputs": [],
   "source": []
  },
  {
   "cell_type": "code",
   "execution_count": null,
   "metadata": {},
   "outputs": [],
   "source": []
  }
 ],
 "metadata": {
  "kernelspec": {
   "display_name": "Python 2",
   "language": "python",
   "name": "python2"
  },
  "language_info": {
   "codemirror_mode": {
    "name": "ipython",
    "version": 2
   },
   "file_extension": ".py",
   "mimetype": "text/x-python",
   "name": "python",
   "nbconvert_exporter": "python",
   "pygments_lexer": "ipython2",
   "version": "2.7.13"
  }
 },
 "nbformat": 4,
 "nbformat_minor": 2
}
